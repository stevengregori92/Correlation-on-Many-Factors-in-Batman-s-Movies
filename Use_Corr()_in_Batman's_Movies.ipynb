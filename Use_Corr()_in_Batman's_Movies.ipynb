{
  "nbformat": 4,
  "nbformat_minor": 0,
  "metadata": {
    "colab": {
      "provenance": [],
      "authorship_tag": "ABX9TyPH+ThhudQlfa42w9XUfXRQ",
      "include_colab_link": true
    },
    "kernelspec": {
      "name": "python3",
      "display_name": "Python 3"
    },
    "language_info": {
      "name": "python"
    }
  },
  "cells": [
    {
      "cell_type": "markdown",
      "metadata": {
        "id": "view-in-github",
        "colab_type": "text"
      },
      "source": [
        "<a href=\"https://colab.research.google.com/github/stevengregori92/Correlation-on-Many-Factors-in-Batman-s-Movies/blob/main/Use_Corr()_in_Batman's_Movies.ipynb\" target=\"_parent\"><img src=\"https://colab.research.google.com/assets/colab-badge.svg\" alt=\"Open In Colab\"/></a>"
      ]
    },
    {
      "cell_type": "markdown",
      "source": [
        "#Import Libraries"
      ],
      "metadata": {
        "id": "ckUO5G6NKuEc"
      }
    },
    {
      "cell_type": "code",
      "execution_count": 1,
      "metadata": {
        "id": "PsUaHDrxKiV2"
      },
      "outputs": [],
      "source": [
        "import pandas as pd\n",
        "import numpy as np\n",
        "import seaborn as sns\n",
        "from sklearn.linear_model import LinearRegression\n",
        "from sklearn.model_selection import train_test_split\n",
        "from sklearn.metrics import r2_score"
      ]
    },
    {
      "cell_type": "markdown",
      "source": [
        "#Import Dataset"
      ],
      "metadata": {
        "id": "qtNtLBZXKxLI"
      }
    },
    {
      "cell_type": "code",
      "source": [
        "data = pd.read_csv('batman_films.csv')\n",
        "data"
      ],
      "metadata": {
        "colab": {
          "base_uri": "https://localhost:8080/",
          "height": 1000
        },
        "id": "gVZrAJ6YKs5V",
        "outputId": "d7466184-24ed-42fd-c9d2-27ab1f242dae"
      },
      "execution_count": 2,
      "outputs": [
        {
          "output_type": "execute_result",
          "data": {
            "text/plain": [
              "    Year                                    Title    Rated  \\\n",
              "0   1989                                   Batman    PG-13   \n",
              "1   1992                           Batman Returns    PG-13   \n",
              "2   1993             Batman: Mask of the Phantasm       PG   \n",
              "3   1995                           Batman Forever    PG-13   \n",
              "4   1997                           Batman & Robin    PG-13   \n",
              "5   1998             Batman & Mr. Freeze: SubZero  Unrated   \n",
              "6   2000       Batman Beyond: Return of the Joker    PG-13   \n",
              "7   2005                            Batman Begins    PG-13   \n",
              "8   2008                          The Dark Knight    PG-13   \n",
              "9   2010               Batman: Under the Red Hood    PG-13   \n",
              "10  2011                         Batman: Year One    PG-13   \n",
              "11  2012  Batman: The Dark Knight Returns, Part 1    PG-13   \n",
              "12  2012                    The Dark Knight Rises    PG-13   \n",
              "13  2013  Batman: The Dark Knight Returns, Part 2    PG-13   \n",
              "14  2014                Batman: Assault on Arkham    PG-13   \n",
              "15  2016                        Batman v Superman    PG-13   \n",
              "16  2016                 Batman: The Killing Joke        R   \n",
              "17  2017                           Justice League    PG-13   \n",
              "18  2018               Batman: Gotham by Gaslight        R   \n",
              "\n",
              "                                             Director    Released  \\\n",
              "0                                          Tim Burton   6/23/1989   \n",
              "1                                          Tim Burton   6/19/1992   \n",
              "2   Eric Radomski, Bruce Timm, Kevin Altieri, Boyd...  12/25/1993   \n",
              "3                                     Joel Schumacher   6/16/1995   \n",
              "4                                     Joel Schumacher   6/20/1997   \n",
              "5                                       Boyd Kirkland   3/17/1998   \n",
              "6                                           Curt Geda  12/12/2000   \n",
              "7                                   Christopher Nolan   6/15/2005   \n",
              "8                                   Christopher Nolan   7/18/2008   \n",
              "9                                      Brandon Vietti   7/27/2010   \n",
              "10                         Sam Liu, Lauren Montgomery  10/18/2011   \n",
              "11                                          Jay Oliva   9/25/2012   \n",
              "12                                  Christopher Nolan   7/20/2012   \n",
              "13                                          Jay Oliva   1/29/2013   \n",
              "14                         Jay Oliva, Ethan Spaulding   7/29/2014   \n",
              "15                                        Zack Snyder   3/25/2016   \n",
              "16                                            Sam Liu   7/25/2016   \n",
              "17                                        Zack Snyder  11/17/2017   \n",
              "18                                            Sam Liu   1/23/2018   \n",
              "\n",
              "                                               Writer  \\\n",
              "0   Bob Kane (Batman characters), Sam Hamm (story)...   \n",
              "1   Bob Kane (Batman characters), Daniel Waters (s...   \n",
              "2   Bob Kane (character created by: Batman), Alan ...   \n",
              "3   Bob Kane (characters), Lee Batchler (story), J...   \n",
              "4        Bob Kane (Batman characters), Akiva Goldsman   \n",
              "5   Bob Kane (Batman created by), Randy Rogel, Boy...   \n",
              "6   Bob Kane (character created by: Batman), Paul ...   \n",
              "7   Bob Kane (characters), David S. Goyer (story),...   \n",
              "8   Jonathan Nolan (screenplay), Christopher Nolan...   \n",
              "9           Judd Winick, Bob Kane (Batman created by)   \n",
              "10  Bob Kane (Batman created by), Tab Murphy, Fran...   \n",
              "11  Bob Kane (character created by: Batman), Frank...   \n",
              "12  Jonathan Nolan (screenplay), Christopher Nolan...   \n",
              "13  Bob Kane (character created by: Batman), Jerry...   \n",
              "14  Heath Corson, Bob Kane (Batman created by), Le...   \n",
              "15  Chris Terrio, David S. Goyer, Bob Kane (Batman...   \n",
              "16  Brian Azzarello, Brian Bolland (based on the g...   \n",
              "17  Jerry Siegel (Superman created by), Joe Shuste...   \n",
              "18  James Krieg, Brian Augustyn (graphic novel: \"G...   \n",
              "\n",
              "                         Production  \\\n",
              "0             Warner Bros. Pictures   \n",
              "1             Warner Bros. Pictures   \n",
              "2             Warner Bros. Pictures   \n",
              "3             Warner Bros. Pictures   \n",
              "4                 Warner Home Video   \n",
              "5            Warner Bros. Pictures    \n",
              "6                 Warner Home Video   \n",
              "7             Warner Bros. Pictures   \n",
              "8   Warner Bros. Pictures/Legendary   \n",
              "9            Warner Bros. Pictures    \n",
              "10          Warner Bros. Pictures     \n",
              "11           Warner Bros. Pictures    \n",
              "12            Warner Bros. Pictures   \n",
              "13          Warner Bros. Pictures     \n",
              "14           Warner Bros. Pictures    \n",
              "15            Warner Bros. Pictures   \n",
              "16                The Answer Studio   \n",
              "17            Warner Bros. Pictures   \n",
              "18                 DC Entertainment   \n",
              "\n",
              "                                               Actors  Runtime  \\\n",
              "0   Michael Keaton, Jack Nicholson, Kim Basinger, ...  126 min   \n",
              "1   Michael Keaton, Danny DeVito, Michelle Pfeiffe...  126 min   \n",
              "2   Kevin Conroy, Dana Delany, Hart Bochner, Stacy...   76 min   \n",
              "3   Val Kilmer, Tommy Lee Jones, Jim Carrey, Nicol...  121 min   \n",
              "4   Arnold Schwarzenegger, George Clooney, Chris O...  125 min   \n",
              "5   Kevin Conroy, Michael Ansara, Loren Lester, Ef...   70 min   \n",
              "6   Will Friedle, Kevin Conroy, Mark Hamill, Angie...   76 min   \n",
              "7   Christian Bale, Michael Caine, Liam Neeson, Ka...  140 min   \n",
              "8   Christian Bale, Heath Ledger, Aaron Eckhart, M...  152 min   \n",
              "9   Bruce Greenwood, Jensen Ackles, John DiMaggio,...   75 min   \n",
              "10  Bryan Cranston, Ben McKenzie, Eliza Dushku, Jo...   64 min   \n",
              "11  Peter Weller, Ariel Winter, David Selby, Wade ...   76 min   \n",
              "12  Christian Bale, Gary Oldman, Tom Hardy, Joseph...  164 min   \n",
              "13  Peter Weller, Ariel Winter, Michael Emerson, D...   76 min   \n",
              "14  Kevin Conroy, Neal McDonough, Hynden Walch, Ma...   76 min   \n",
              "15  Ben Affleck, Henry Cavill, Amy Adams, Jesse Ei...  151 min   \n",
              "16   Kevin Conroy, Mark Hamill, Tara Strong, Ray Wise   76 min   \n",
              "17    Ben Affleck, Henry Cavill, Amy Adams, Gal Gadot  120 min   \n",
              "18  Bruce Greenwood, Jennifer Carpenter, Chris Cox...   78 min   \n",
              "\n",
              "                                               Awards Imdb Votes  Imdb Rating  \\\n",
              "0       Won 1 Oscar. Another 8 wins & 26 nominations.    323,942          7.5   \n",
              "1   Nominated for 2 Oscars. Another 2 wins & 27 no...    261,654          7.0   \n",
              "2                                       1 nomination.     40,226          7.8   \n",
              "3   Nominated for 3 Oscars. Another 10 wins & 22 n...    226,680          5.4   \n",
              "4                           10 wins & 22 nominations.    224,614          3.7   \n",
              "5                               1 win & 1 nomination.     12,490          7.2   \n",
              "6                             3 wins & 5 nominations.     22,149          7.8   \n",
              "7   Nominated for 1 Oscar. Another 14 wins & 72 no...  1,241,089          8.2   \n",
              "8   Won 2 Oscars. Another 153 wins & 159 nominations.  2,173,344          9.0   \n",
              "9                                       1 nomination.     51,426          8.0   \n",
              "10                                             1 win.     29,054          7.4   \n",
              "11                                     5 nominations.     49,610          8.0   \n",
              "12  Nominated for 1 BAFTA Film Award. Another 38 w...  1,439,795          8.4   \n",
              "13                              1 win & 1 nomination.     42,988          8.4   \n",
              "14                            3 wins & 2 nominations.     29,248          7.5   \n",
              "15                          14 wins & 33 nominations.    596,317          6.5   \n",
              "16                             1 win & 2 nominations.     46,086          6.4   \n",
              "17                           2 wins & 13 nominations.    352,866          6.4   \n",
              "18                                      1 nomination.     11,936          6.7   \n",
              "\n",
              "   RottenTomatoScore  Metascore  \n",
              "0                72%       69.0  \n",
              "1                79%       68.0  \n",
              "2                84%        NaN  \n",
              "3                39%       51.0  \n",
              "4                11%       28.0  \n",
              "5                92%        NaN  \n",
              "6                90%        NaN  \n",
              "7                84%       70.0  \n",
              "8                94%       84.0  \n",
              "9               100%        NaN  \n",
              "10               88%        NaN  \n",
              "11              100%        NaN  \n",
              "12               87%       78.0  \n",
              "13               NaN        NaN  \n",
              "14               75%        NaN  \n",
              "15               28%       44.0  \n",
              "16               40%        NaN  \n",
              "17               40%       45.0  \n",
              "18               73%        NaN  "
            ],
            "text/html": [
              "\n",
              "  <div id=\"df-c3e420a5-cfa3-4d13-98b9-5cf30b91bd18\">\n",
              "    <div class=\"colab-df-container\">\n",
              "      <div>\n",
              "<style scoped>\n",
              "    .dataframe tbody tr th:only-of-type {\n",
              "        vertical-align: middle;\n",
              "    }\n",
              "\n",
              "    .dataframe tbody tr th {\n",
              "        vertical-align: top;\n",
              "    }\n",
              "\n",
              "    .dataframe thead th {\n",
              "        text-align: right;\n",
              "    }\n",
              "</style>\n",
              "<table border=\"1\" class=\"dataframe\">\n",
              "  <thead>\n",
              "    <tr style=\"text-align: right;\">\n",
              "      <th></th>\n",
              "      <th>Year</th>\n",
              "      <th>Title</th>\n",
              "      <th>Rated</th>\n",
              "      <th>Director</th>\n",
              "      <th>Released</th>\n",
              "      <th>Writer</th>\n",
              "      <th>Production</th>\n",
              "      <th>Actors</th>\n",
              "      <th>Runtime</th>\n",
              "      <th>Awards</th>\n",
              "      <th>Imdb Votes</th>\n",
              "      <th>Imdb Rating</th>\n",
              "      <th>RottenTomatoScore</th>\n",
              "      <th>Metascore</th>\n",
              "    </tr>\n",
              "  </thead>\n",
              "  <tbody>\n",
              "    <tr>\n",
              "      <th>0</th>\n",
              "      <td>1989</td>\n",
              "      <td>Batman</td>\n",
              "      <td>PG-13</td>\n",
              "      <td>Tim Burton</td>\n",
              "      <td>6/23/1989</td>\n",
              "      <td>Bob Kane (Batman characters), Sam Hamm (story)...</td>\n",
              "      <td>Warner Bros. Pictures</td>\n",
              "      <td>Michael Keaton, Jack Nicholson, Kim Basinger, ...</td>\n",
              "      <td>126 min</td>\n",
              "      <td>Won 1 Oscar. Another 8 wins &amp; 26 nominations.</td>\n",
              "      <td>323,942</td>\n",
              "      <td>7.5</td>\n",
              "      <td>72%</td>\n",
              "      <td>69.0</td>\n",
              "    </tr>\n",
              "    <tr>\n",
              "      <th>1</th>\n",
              "      <td>1992</td>\n",
              "      <td>Batman Returns</td>\n",
              "      <td>PG-13</td>\n",
              "      <td>Tim Burton</td>\n",
              "      <td>6/19/1992</td>\n",
              "      <td>Bob Kane (Batman characters), Daniel Waters (s...</td>\n",
              "      <td>Warner Bros. Pictures</td>\n",
              "      <td>Michael Keaton, Danny DeVito, Michelle Pfeiffe...</td>\n",
              "      <td>126 min</td>\n",
              "      <td>Nominated for 2 Oscars. Another 2 wins &amp; 27 no...</td>\n",
              "      <td>261,654</td>\n",
              "      <td>7.0</td>\n",
              "      <td>79%</td>\n",
              "      <td>68.0</td>\n",
              "    </tr>\n",
              "    <tr>\n",
              "      <th>2</th>\n",
              "      <td>1993</td>\n",
              "      <td>Batman: Mask of the Phantasm</td>\n",
              "      <td>PG</td>\n",
              "      <td>Eric Radomski, Bruce Timm, Kevin Altieri, Boyd...</td>\n",
              "      <td>12/25/1993</td>\n",
              "      <td>Bob Kane (character created by: Batman), Alan ...</td>\n",
              "      <td>Warner Bros. Pictures</td>\n",
              "      <td>Kevin Conroy, Dana Delany, Hart Bochner, Stacy...</td>\n",
              "      <td>76 min</td>\n",
              "      <td>1 nomination.</td>\n",
              "      <td>40,226</td>\n",
              "      <td>7.8</td>\n",
              "      <td>84%</td>\n",
              "      <td>NaN</td>\n",
              "    </tr>\n",
              "    <tr>\n",
              "      <th>3</th>\n",
              "      <td>1995</td>\n",
              "      <td>Batman Forever</td>\n",
              "      <td>PG-13</td>\n",
              "      <td>Joel Schumacher</td>\n",
              "      <td>6/16/1995</td>\n",
              "      <td>Bob Kane (characters), Lee Batchler (story), J...</td>\n",
              "      <td>Warner Bros. Pictures</td>\n",
              "      <td>Val Kilmer, Tommy Lee Jones, Jim Carrey, Nicol...</td>\n",
              "      <td>121 min</td>\n",
              "      <td>Nominated for 3 Oscars. Another 10 wins &amp; 22 n...</td>\n",
              "      <td>226,680</td>\n",
              "      <td>5.4</td>\n",
              "      <td>39%</td>\n",
              "      <td>51.0</td>\n",
              "    </tr>\n",
              "    <tr>\n",
              "      <th>4</th>\n",
              "      <td>1997</td>\n",
              "      <td>Batman &amp; Robin</td>\n",
              "      <td>PG-13</td>\n",
              "      <td>Joel Schumacher</td>\n",
              "      <td>6/20/1997</td>\n",
              "      <td>Bob Kane (Batman characters), Akiva Goldsman</td>\n",
              "      <td>Warner Home Video</td>\n",
              "      <td>Arnold Schwarzenegger, George Clooney, Chris O...</td>\n",
              "      <td>125 min</td>\n",
              "      <td>10 wins &amp; 22 nominations.</td>\n",
              "      <td>224,614</td>\n",
              "      <td>3.7</td>\n",
              "      <td>11%</td>\n",
              "      <td>28.0</td>\n",
              "    </tr>\n",
              "    <tr>\n",
              "      <th>5</th>\n",
              "      <td>1998</td>\n",
              "      <td>Batman &amp; Mr. Freeze: SubZero</td>\n",
              "      <td>Unrated</td>\n",
              "      <td>Boyd Kirkland</td>\n",
              "      <td>3/17/1998</td>\n",
              "      <td>Bob Kane (Batman created by), Randy Rogel, Boy...</td>\n",
              "      <td>Warner Bros. Pictures</td>\n",
              "      <td>Kevin Conroy, Michael Ansara, Loren Lester, Ef...</td>\n",
              "      <td>70 min</td>\n",
              "      <td>1 win &amp; 1 nomination.</td>\n",
              "      <td>12,490</td>\n",
              "      <td>7.2</td>\n",
              "      <td>92%</td>\n",
              "      <td>NaN</td>\n",
              "    </tr>\n",
              "    <tr>\n",
              "      <th>6</th>\n",
              "      <td>2000</td>\n",
              "      <td>Batman Beyond: Return of the Joker</td>\n",
              "      <td>PG-13</td>\n",
              "      <td>Curt Geda</td>\n",
              "      <td>12/12/2000</td>\n",
              "      <td>Bob Kane (character created by: Batman), Paul ...</td>\n",
              "      <td>Warner Home Video</td>\n",
              "      <td>Will Friedle, Kevin Conroy, Mark Hamill, Angie...</td>\n",
              "      <td>76 min</td>\n",
              "      <td>3 wins &amp; 5 nominations.</td>\n",
              "      <td>22,149</td>\n",
              "      <td>7.8</td>\n",
              "      <td>90%</td>\n",
              "      <td>NaN</td>\n",
              "    </tr>\n",
              "    <tr>\n",
              "      <th>7</th>\n",
              "      <td>2005</td>\n",
              "      <td>Batman Begins</td>\n",
              "      <td>PG-13</td>\n",
              "      <td>Christopher Nolan</td>\n",
              "      <td>6/15/2005</td>\n",
              "      <td>Bob Kane (characters), David S. Goyer (story),...</td>\n",
              "      <td>Warner Bros. Pictures</td>\n",
              "      <td>Christian Bale, Michael Caine, Liam Neeson, Ka...</td>\n",
              "      <td>140 min</td>\n",
              "      <td>Nominated for 1 Oscar. Another 14 wins &amp; 72 no...</td>\n",
              "      <td>1,241,089</td>\n",
              "      <td>8.2</td>\n",
              "      <td>84%</td>\n",
              "      <td>70.0</td>\n",
              "    </tr>\n",
              "    <tr>\n",
              "      <th>8</th>\n",
              "      <td>2008</td>\n",
              "      <td>The Dark Knight</td>\n",
              "      <td>PG-13</td>\n",
              "      <td>Christopher Nolan</td>\n",
              "      <td>7/18/2008</td>\n",
              "      <td>Jonathan Nolan (screenplay), Christopher Nolan...</td>\n",
              "      <td>Warner Bros. Pictures/Legendary</td>\n",
              "      <td>Christian Bale, Heath Ledger, Aaron Eckhart, M...</td>\n",
              "      <td>152 min</td>\n",
              "      <td>Won 2 Oscars. Another 153 wins &amp; 159 nominations.</td>\n",
              "      <td>2,173,344</td>\n",
              "      <td>9.0</td>\n",
              "      <td>94%</td>\n",
              "      <td>84.0</td>\n",
              "    </tr>\n",
              "    <tr>\n",
              "      <th>9</th>\n",
              "      <td>2010</td>\n",
              "      <td>Batman: Under the Red Hood</td>\n",
              "      <td>PG-13</td>\n",
              "      <td>Brandon Vietti</td>\n",
              "      <td>7/27/2010</td>\n",
              "      <td>Judd Winick, Bob Kane (Batman created by)</td>\n",
              "      <td>Warner Bros. Pictures</td>\n",
              "      <td>Bruce Greenwood, Jensen Ackles, John DiMaggio,...</td>\n",
              "      <td>75 min</td>\n",
              "      <td>1 nomination.</td>\n",
              "      <td>51,426</td>\n",
              "      <td>8.0</td>\n",
              "      <td>100%</td>\n",
              "      <td>NaN</td>\n",
              "    </tr>\n",
              "    <tr>\n",
              "      <th>10</th>\n",
              "      <td>2011</td>\n",
              "      <td>Batman: Year One</td>\n",
              "      <td>PG-13</td>\n",
              "      <td>Sam Liu, Lauren Montgomery</td>\n",
              "      <td>10/18/2011</td>\n",
              "      <td>Bob Kane (Batman created by), Tab Murphy, Fran...</td>\n",
              "      <td>Warner Bros. Pictures</td>\n",
              "      <td>Bryan Cranston, Ben McKenzie, Eliza Dushku, Jo...</td>\n",
              "      <td>64 min</td>\n",
              "      <td>1 win.</td>\n",
              "      <td>29,054</td>\n",
              "      <td>7.4</td>\n",
              "      <td>88%</td>\n",
              "      <td>NaN</td>\n",
              "    </tr>\n",
              "    <tr>\n",
              "      <th>11</th>\n",
              "      <td>2012</td>\n",
              "      <td>Batman: The Dark Knight Returns, Part 1</td>\n",
              "      <td>PG-13</td>\n",
              "      <td>Jay Oliva</td>\n",
              "      <td>9/25/2012</td>\n",
              "      <td>Bob Kane (character created by: Batman), Frank...</td>\n",
              "      <td>Warner Bros. Pictures</td>\n",
              "      <td>Peter Weller, Ariel Winter, David Selby, Wade ...</td>\n",
              "      <td>76 min</td>\n",
              "      <td>5 nominations.</td>\n",
              "      <td>49,610</td>\n",
              "      <td>8.0</td>\n",
              "      <td>100%</td>\n",
              "      <td>NaN</td>\n",
              "    </tr>\n",
              "    <tr>\n",
              "      <th>12</th>\n",
              "      <td>2012</td>\n",
              "      <td>The Dark Knight Rises</td>\n",
              "      <td>PG-13</td>\n",
              "      <td>Christopher Nolan</td>\n",
              "      <td>7/20/2012</td>\n",
              "      <td>Jonathan Nolan (screenplay), Christopher Nolan...</td>\n",
              "      <td>Warner Bros. Pictures</td>\n",
              "      <td>Christian Bale, Gary Oldman, Tom Hardy, Joseph...</td>\n",
              "      <td>164 min</td>\n",
              "      <td>Nominated for 1 BAFTA Film Award. Another 38 w...</td>\n",
              "      <td>1,439,795</td>\n",
              "      <td>8.4</td>\n",
              "      <td>87%</td>\n",
              "      <td>78.0</td>\n",
              "    </tr>\n",
              "    <tr>\n",
              "      <th>13</th>\n",
              "      <td>2013</td>\n",
              "      <td>Batman: The Dark Knight Returns, Part 2</td>\n",
              "      <td>PG-13</td>\n",
              "      <td>Jay Oliva</td>\n",
              "      <td>1/29/2013</td>\n",
              "      <td>Bob Kane (character created by: Batman), Jerry...</td>\n",
              "      <td>Warner Bros. Pictures</td>\n",
              "      <td>Peter Weller, Ariel Winter, Michael Emerson, D...</td>\n",
              "      <td>76 min</td>\n",
              "      <td>1 win &amp; 1 nomination.</td>\n",
              "      <td>42,988</td>\n",
              "      <td>8.4</td>\n",
              "      <td>NaN</td>\n",
              "      <td>NaN</td>\n",
              "    </tr>\n",
              "    <tr>\n",
              "      <th>14</th>\n",
              "      <td>2014</td>\n",
              "      <td>Batman: Assault on Arkham</td>\n",
              "      <td>PG-13</td>\n",
              "      <td>Jay Oliva, Ethan Spaulding</td>\n",
              "      <td>7/29/2014</td>\n",
              "      <td>Heath Corson, Bob Kane (Batman created by), Le...</td>\n",
              "      <td>Warner Bros. Pictures</td>\n",
              "      <td>Kevin Conroy, Neal McDonough, Hynden Walch, Ma...</td>\n",
              "      <td>76 min</td>\n",
              "      <td>3 wins &amp; 2 nominations.</td>\n",
              "      <td>29,248</td>\n",
              "      <td>7.5</td>\n",
              "      <td>75%</td>\n",
              "      <td>NaN</td>\n",
              "    </tr>\n",
              "    <tr>\n",
              "      <th>15</th>\n",
              "      <td>2016</td>\n",
              "      <td>Batman v Superman</td>\n",
              "      <td>PG-13</td>\n",
              "      <td>Zack Snyder</td>\n",
              "      <td>3/25/2016</td>\n",
              "      <td>Chris Terrio, David S. Goyer, Bob Kane (Batman...</td>\n",
              "      <td>Warner Bros. Pictures</td>\n",
              "      <td>Ben Affleck, Henry Cavill, Amy Adams, Jesse Ei...</td>\n",
              "      <td>151 min</td>\n",
              "      <td>14 wins &amp; 33 nominations.</td>\n",
              "      <td>596,317</td>\n",
              "      <td>6.5</td>\n",
              "      <td>28%</td>\n",
              "      <td>44.0</td>\n",
              "    </tr>\n",
              "    <tr>\n",
              "      <th>16</th>\n",
              "      <td>2016</td>\n",
              "      <td>Batman: The Killing Joke</td>\n",
              "      <td>R</td>\n",
              "      <td>Sam Liu</td>\n",
              "      <td>7/25/2016</td>\n",
              "      <td>Brian Azzarello, Brian Bolland (based on the g...</td>\n",
              "      <td>The Answer Studio</td>\n",
              "      <td>Kevin Conroy, Mark Hamill, Tara Strong, Ray Wise</td>\n",
              "      <td>76 min</td>\n",
              "      <td>1 win &amp; 2 nominations.</td>\n",
              "      <td>46,086</td>\n",
              "      <td>6.4</td>\n",
              "      <td>40%</td>\n",
              "      <td>NaN</td>\n",
              "    </tr>\n",
              "    <tr>\n",
              "      <th>17</th>\n",
              "      <td>2017</td>\n",
              "      <td>Justice League</td>\n",
              "      <td>PG-13</td>\n",
              "      <td>Zack Snyder</td>\n",
              "      <td>11/17/2017</td>\n",
              "      <td>Jerry Siegel (Superman created by), Joe Shuste...</td>\n",
              "      <td>Warner Bros. Pictures</td>\n",
              "      <td>Ben Affleck, Henry Cavill, Amy Adams, Gal Gadot</td>\n",
              "      <td>120 min</td>\n",
              "      <td>2 wins &amp; 13 nominations.</td>\n",
              "      <td>352,866</td>\n",
              "      <td>6.4</td>\n",
              "      <td>40%</td>\n",
              "      <td>45.0</td>\n",
              "    </tr>\n",
              "    <tr>\n",
              "      <th>18</th>\n",
              "      <td>2018</td>\n",
              "      <td>Batman: Gotham by Gaslight</td>\n",
              "      <td>R</td>\n",
              "      <td>Sam Liu</td>\n",
              "      <td>1/23/2018</td>\n",
              "      <td>James Krieg, Brian Augustyn (graphic novel: \"G...</td>\n",
              "      <td>DC Entertainment</td>\n",
              "      <td>Bruce Greenwood, Jennifer Carpenter, Chris Cox...</td>\n",
              "      <td>78 min</td>\n",
              "      <td>1 nomination.</td>\n",
              "      <td>11,936</td>\n",
              "      <td>6.7</td>\n",
              "      <td>73%</td>\n",
              "      <td>NaN</td>\n",
              "    </tr>\n",
              "  </tbody>\n",
              "</table>\n",
              "</div>\n",
              "      <button class=\"colab-df-convert\" onclick=\"convertToInteractive('df-c3e420a5-cfa3-4d13-98b9-5cf30b91bd18')\"\n",
              "              title=\"Convert this dataframe to an interactive table.\"\n",
              "              style=\"display:none;\">\n",
              "        \n",
              "  <svg xmlns=\"http://www.w3.org/2000/svg\" height=\"24px\"viewBox=\"0 0 24 24\"\n",
              "       width=\"24px\">\n",
              "    <path d=\"M0 0h24v24H0V0z\" fill=\"none\"/>\n",
              "    <path d=\"M18.56 5.44l.94 2.06.94-2.06 2.06-.94-2.06-.94-.94-2.06-.94 2.06-2.06.94zm-11 1L8.5 8.5l.94-2.06 2.06-.94-2.06-.94L8.5 2.5l-.94 2.06-2.06.94zm10 10l.94 2.06.94-2.06 2.06-.94-2.06-.94-.94-2.06-.94 2.06-2.06.94z\"/><path d=\"M17.41 7.96l-1.37-1.37c-.4-.4-.92-.59-1.43-.59-.52 0-1.04.2-1.43.59L10.3 9.45l-7.72 7.72c-.78.78-.78 2.05 0 2.83L4 21.41c.39.39.9.59 1.41.59.51 0 1.02-.2 1.41-.59l7.78-7.78 2.81-2.81c.8-.78.8-2.07 0-2.86zM5.41 20L4 18.59l7.72-7.72 1.47 1.35L5.41 20z\"/>\n",
              "  </svg>\n",
              "      </button>\n",
              "      \n",
              "  <style>\n",
              "    .colab-df-container {\n",
              "      display:flex;\n",
              "      flex-wrap:wrap;\n",
              "      gap: 12px;\n",
              "    }\n",
              "\n",
              "    .colab-df-convert {\n",
              "      background-color: #E8F0FE;\n",
              "      border: none;\n",
              "      border-radius: 50%;\n",
              "      cursor: pointer;\n",
              "      display: none;\n",
              "      fill: #1967D2;\n",
              "      height: 32px;\n",
              "      padding: 0 0 0 0;\n",
              "      width: 32px;\n",
              "    }\n",
              "\n",
              "    .colab-df-convert:hover {\n",
              "      background-color: #E2EBFA;\n",
              "      box-shadow: 0px 1px 2px rgba(60, 64, 67, 0.3), 0px 1px 3px 1px rgba(60, 64, 67, 0.15);\n",
              "      fill: #174EA6;\n",
              "    }\n",
              "\n",
              "    [theme=dark] .colab-df-convert {\n",
              "      background-color: #3B4455;\n",
              "      fill: #D2E3FC;\n",
              "    }\n",
              "\n",
              "    [theme=dark] .colab-df-convert:hover {\n",
              "      background-color: #434B5C;\n",
              "      box-shadow: 0px 1px 3px 1px rgba(0, 0, 0, 0.15);\n",
              "      filter: drop-shadow(0px 1px 2px rgba(0, 0, 0, 0.3));\n",
              "      fill: #FFFFFF;\n",
              "    }\n",
              "  </style>\n",
              "\n",
              "      <script>\n",
              "        const buttonEl =\n",
              "          document.querySelector('#df-c3e420a5-cfa3-4d13-98b9-5cf30b91bd18 button.colab-df-convert');\n",
              "        buttonEl.style.display =\n",
              "          google.colab.kernel.accessAllowed ? 'block' : 'none';\n",
              "\n",
              "        async function convertToInteractive(key) {\n",
              "          const element = document.querySelector('#df-c3e420a5-cfa3-4d13-98b9-5cf30b91bd18');\n",
              "          const dataTable =\n",
              "            await google.colab.kernel.invokeFunction('convertToInteractive',\n",
              "                                                     [key], {});\n",
              "          if (!dataTable) return;\n",
              "\n",
              "          const docLinkHtml = 'Like what you see? Visit the ' +\n",
              "            '<a target=\"_blank\" href=https://colab.research.google.com/notebooks/data_table.ipynb>data table notebook</a>'\n",
              "            + ' to learn more about interactive tables.';\n",
              "          element.innerHTML = '';\n",
              "          dataTable['output_type'] = 'display_data';\n",
              "          await google.colab.output.renderOutput(dataTable, element);\n",
              "          const docLink = document.createElement('div');\n",
              "          docLink.innerHTML = docLinkHtml;\n",
              "          element.appendChild(docLink);\n",
              "        }\n",
              "      </script>\n",
              "    </div>\n",
              "  </div>\n",
              "  "
            ]
          },
          "metadata": {},
          "execution_count": 2
        }
      ]
    },
    {
      "cell_type": "code",
      "source": [
        "#data['year'] = data['Released'].dt.year\n",
        "#data['month'] = data['Released'].dt.month"
      ],
      "metadata": {
        "id": "Vmk4sjUQ9Nkx"
      },
      "execution_count": 3,
      "outputs": []
    },
    {
      "cell_type": "code",
      "source": [
        "data.shape"
      ],
      "metadata": {
        "colab": {
          "base_uri": "https://localhost:8080/"
        },
        "id": "R7ACH4QLLCGP",
        "outputId": "396c2771-2c12-4975-ba91-39f94640b261"
      },
      "execution_count": 4,
      "outputs": [
        {
          "output_type": "execute_result",
          "data": {
            "text/plain": [
              "(19, 14)"
            ]
          },
          "metadata": {},
          "execution_count": 4
        }
      ]
    },
    {
      "cell_type": "markdown",
      "source": [
        "#Explore Data"
      ],
      "metadata": {
        "id": "_coj7psBLPAm"
      }
    },
    {
      "cell_type": "code",
      "source": [
        "len(data), len(data.dropna())"
      ],
      "metadata": {
        "colab": {
          "base_uri": "https://localhost:8080/"
        },
        "id": "MBUsYMS_LNsx",
        "outputId": "ac16ac0a-3e1f-47af-dd73-e856a9c3c62d"
      },
      "execution_count": 5,
      "outputs": [
        {
          "output_type": "execute_result",
          "data": {
            "text/plain": [
              "(19, 9)"
            ]
          },
          "metadata": {},
          "execution_count": 5
        }
      ]
    },
    {
      "cell_type": "code",
      "source": [
        "data.info()"
      ],
      "metadata": {
        "id": "UX6qEfv0LdGD",
        "outputId": "a3305c6b-b876-4a8f-e3f0-379f52bd89c9",
        "colab": {
          "base_uri": "https://localhost:8080/"
        }
      },
      "execution_count": 6,
      "outputs": [
        {
          "output_type": "stream",
          "name": "stdout",
          "text": [
            "<class 'pandas.core.frame.DataFrame'>\n",
            "RangeIndex: 19 entries, 0 to 18\n",
            "Data columns (total 14 columns):\n",
            " #   Column             Non-Null Count  Dtype  \n",
            "---  ------             --------------  -----  \n",
            " 0   Year               19 non-null     int64  \n",
            " 1   Title              19 non-null     object \n",
            " 2   Rated              19 non-null     object \n",
            " 3   Director           19 non-null     object \n",
            " 4   Released           19 non-null     object \n",
            " 5   Writer             19 non-null     object \n",
            " 6   Production         19 non-null     object \n",
            " 7   Actors             19 non-null     object \n",
            " 8   Runtime            19 non-null     object \n",
            " 9   Awards             19 non-null     object \n",
            " 10  Imdb Votes         19 non-null     object \n",
            " 11  Imdb Rating        19 non-null     float64\n",
            " 12  RottenTomatoScore  18 non-null     object \n",
            " 13  Metascore          9 non-null      float64\n",
            "dtypes: float64(2), int64(1), object(11)\n",
            "memory usage: 2.2+ KB\n"
          ]
        }
      ]
    },
    {
      "cell_type": "code",
      "source": [
        "data['RottenTomatoScore'] = data['RottenTomatoScore'].str.replace('%', '')\n",
        "data['Runtime'] = data['Runtime'].str.replace('min', '')\n",
        "data['Imdb Votes'] = data['Imdb Votes'].str.replace(',', '')\n",
        "data.head()"
      ],
      "metadata": {
        "id": "MGG4nGOjzBJY",
        "colab": {
          "base_uri": "https://localhost:8080/",
          "height": 597
        },
        "outputId": "0cbae6a3-595c-485f-f696-c2cf01fe8347"
      },
      "execution_count": 7,
      "outputs": [
        {
          "output_type": "execute_result",
          "data": {
            "text/plain": [
              "   Year                         Title  Rated  \\\n",
              "0  1989                        Batman  PG-13   \n",
              "1  1992                Batman Returns  PG-13   \n",
              "2  1993  Batman: Mask of the Phantasm     PG   \n",
              "3  1995                Batman Forever  PG-13   \n",
              "4  1997                Batman & Robin  PG-13   \n",
              "\n",
              "                                            Director    Released  \\\n",
              "0                                         Tim Burton   6/23/1989   \n",
              "1                                         Tim Burton   6/19/1992   \n",
              "2  Eric Radomski, Bruce Timm, Kevin Altieri, Boyd...  12/25/1993   \n",
              "3                                    Joel Schumacher   6/16/1995   \n",
              "4                                    Joel Schumacher   6/20/1997   \n",
              "\n",
              "                                              Writer             Production  \\\n",
              "0  Bob Kane (Batman characters), Sam Hamm (story)...  Warner Bros. Pictures   \n",
              "1  Bob Kane (Batman characters), Daniel Waters (s...  Warner Bros. Pictures   \n",
              "2  Bob Kane (character created by: Batman), Alan ...  Warner Bros. Pictures   \n",
              "3  Bob Kane (characters), Lee Batchler (story), J...  Warner Bros. Pictures   \n",
              "4       Bob Kane (Batman characters), Akiva Goldsman      Warner Home Video   \n",
              "\n",
              "                                              Actors Runtime  \\\n",
              "0  Michael Keaton, Jack Nicholson, Kim Basinger, ...    126    \n",
              "1  Michael Keaton, Danny DeVito, Michelle Pfeiffe...    126    \n",
              "2  Kevin Conroy, Dana Delany, Hart Bochner, Stacy...     76    \n",
              "3  Val Kilmer, Tommy Lee Jones, Jim Carrey, Nicol...    121    \n",
              "4  Arnold Schwarzenegger, George Clooney, Chris O...    125    \n",
              "\n",
              "                                              Awards Imdb Votes  Imdb Rating  \\\n",
              "0      Won 1 Oscar. Another 8 wins & 26 nominations.     323942          7.5   \n",
              "1  Nominated for 2 Oscars. Another 2 wins & 27 no...     261654          7.0   \n",
              "2                                      1 nomination.      40226          7.8   \n",
              "3  Nominated for 3 Oscars. Another 10 wins & 22 n...     226680          5.4   \n",
              "4                          10 wins & 22 nominations.     224614          3.7   \n",
              "\n",
              "  RottenTomatoScore  Metascore  \n",
              "0                72       69.0  \n",
              "1                79       68.0  \n",
              "2                84        NaN  \n",
              "3                39       51.0  \n",
              "4                11       28.0  "
            ],
            "text/html": [
              "\n",
              "  <div id=\"df-004c9a69-42d6-4f9a-9ee6-d8800856d6d5\">\n",
              "    <div class=\"colab-df-container\">\n",
              "      <div>\n",
              "<style scoped>\n",
              "    .dataframe tbody tr th:only-of-type {\n",
              "        vertical-align: middle;\n",
              "    }\n",
              "\n",
              "    .dataframe tbody tr th {\n",
              "        vertical-align: top;\n",
              "    }\n",
              "\n",
              "    .dataframe thead th {\n",
              "        text-align: right;\n",
              "    }\n",
              "</style>\n",
              "<table border=\"1\" class=\"dataframe\">\n",
              "  <thead>\n",
              "    <tr style=\"text-align: right;\">\n",
              "      <th></th>\n",
              "      <th>Year</th>\n",
              "      <th>Title</th>\n",
              "      <th>Rated</th>\n",
              "      <th>Director</th>\n",
              "      <th>Released</th>\n",
              "      <th>Writer</th>\n",
              "      <th>Production</th>\n",
              "      <th>Actors</th>\n",
              "      <th>Runtime</th>\n",
              "      <th>Awards</th>\n",
              "      <th>Imdb Votes</th>\n",
              "      <th>Imdb Rating</th>\n",
              "      <th>RottenTomatoScore</th>\n",
              "      <th>Metascore</th>\n",
              "    </tr>\n",
              "  </thead>\n",
              "  <tbody>\n",
              "    <tr>\n",
              "      <th>0</th>\n",
              "      <td>1989</td>\n",
              "      <td>Batman</td>\n",
              "      <td>PG-13</td>\n",
              "      <td>Tim Burton</td>\n",
              "      <td>6/23/1989</td>\n",
              "      <td>Bob Kane (Batman characters), Sam Hamm (story)...</td>\n",
              "      <td>Warner Bros. Pictures</td>\n",
              "      <td>Michael Keaton, Jack Nicholson, Kim Basinger, ...</td>\n",
              "      <td>126</td>\n",
              "      <td>Won 1 Oscar. Another 8 wins &amp; 26 nominations.</td>\n",
              "      <td>323942</td>\n",
              "      <td>7.5</td>\n",
              "      <td>72</td>\n",
              "      <td>69.0</td>\n",
              "    </tr>\n",
              "    <tr>\n",
              "      <th>1</th>\n",
              "      <td>1992</td>\n",
              "      <td>Batman Returns</td>\n",
              "      <td>PG-13</td>\n",
              "      <td>Tim Burton</td>\n",
              "      <td>6/19/1992</td>\n",
              "      <td>Bob Kane (Batman characters), Daniel Waters (s...</td>\n",
              "      <td>Warner Bros. Pictures</td>\n",
              "      <td>Michael Keaton, Danny DeVito, Michelle Pfeiffe...</td>\n",
              "      <td>126</td>\n",
              "      <td>Nominated for 2 Oscars. Another 2 wins &amp; 27 no...</td>\n",
              "      <td>261654</td>\n",
              "      <td>7.0</td>\n",
              "      <td>79</td>\n",
              "      <td>68.0</td>\n",
              "    </tr>\n",
              "    <tr>\n",
              "      <th>2</th>\n",
              "      <td>1993</td>\n",
              "      <td>Batman: Mask of the Phantasm</td>\n",
              "      <td>PG</td>\n",
              "      <td>Eric Radomski, Bruce Timm, Kevin Altieri, Boyd...</td>\n",
              "      <td>12/25/1993</td>\n",
              "      <td>Bob Kane (character created by: Batman), Alan ...</td>\n",
              "      <td>Warner Bros. Pictures</td>\n",
              "      <td>Kevin Conroy, Dana Delany, Hart Bochner, Stacy...</td>\n",
              "      <td>76</td>\n",
              "      <td>1 nomination.</td>\n",
              "      <td>40226</td>\n",
              "      <td>7.8</td>\n",
              "      <td>84</td>\n",
              "      <td>NaN</td>\n",
              "    </tr>\n",
              "    <tr>\n",
              "      <th>3</th>\n",
              "      <td>1995</td>\n",
              "      <td>Batman Forever</td>\n",
              "      <td>PG-13</td>\n",
              "      <td>Joel Schumacher</td>\n",
              "      <td>6/16/1995</td>\n",
              "      <td>Bob Kane (characters), Lee Batchler (story), J...</td>\n",
              "      <td>Warner Bros. Pictures</td>\n",
              "      <td>Val Kilmer, Tommy Lee Jones, Jim Carrey, Nicol...</td>\n",
              "      <td>121</td>\n",
              "      <td>Nominated for 3 Oscars. Another 10 wins &amp; 22 n...</td>\n",
              "      <td>226680</td>\n",
              "      <td>5.4</td>\n",
              "      <td>39</td>\n",
              "      <td>51.0</td>\n",
              "    </tr>\n",
              "    <tr>\n",
              "      <th>4</th>\n",
              "      <td>1997</td>\n",
              "      <td>Batman &amp; Robin</td>\n",
              "      <td>PG-13</td>\n",
              "      <td>Joel Schumacher</td>\n",
              "      <td>6/20/1997</td>\n",
              "      <td>Bob Kane (Batman characters), Akiva Goldsman</td>\n",
              "      <td>Warner Home Video</td>\n",
              "      <td>Arnold Schwarzenegger, George Clooney, Chris O...</td>\n",
              "      <td>125</td>\n",
              "      <td>10 wins &amp; 22 nominations.</td>\n",
              "      <td>224614</td>\n",
              "      <td>3.7</td>\n",
              "      <td>11</td>\n",
              "      <td>28.0</td>\n",
              "    </tr>\n",
              "  </tbody>\n",
              "</table>\n",
              "</div>\n",
              "      <button class=\"colab-df-convert\" onclick=\"convertToInteractive('df-004c9a69-42d6-4f9a-9ee6-d8800856d6d5')\"\n",
              "              title=\"Convert this dataframe to an interactive table.\"\n",
              "              style=\"display:none;\">\n",
              "        \n",
              "  <svg xmlns=\"http://www.w3.org/2000/svg\" height=\"24px\"viewBox=\"0 0 24 24\"\n",
              "       width=\"24px\">\n",
              "    <path d=\"M0 0h24v24H0V0z\" fill=\"none\"/>\n",
              "    <path d=\"M18.56 5.44l.94 2.06.94-2.06 2.06-.94-2.06-.94-.94-2.06-.94 2.06-2.06.94zm-11 1L8.5 8.5l.94-2.06 2.06-.94-2.06-.94L8.5 2.5l-.94 2.06-2.06.94zm10 10l.94 2.06.94-2.06 2.06-.94-2.06-.94-.94-2.06-.94 2.06-2.06.94z\"/><path d=\"M17.41 7.96l-1.37-1.37c-.4-.4-.92-.59-1.43-.59-.52 0-1.04.2-1.43.59L10.3 9.45l-7.72 7.72c-.78.78-.78 2.05 0 2.83L4 21.41c.39.39.9.59 1.41.59.51 0 1.02-.2 1.41-.59l7.78-7.78 2.81-2.81c.8-.78.8-2.07 0-2.86zM5.41 20L4 18.59l7.72-7.72 1.47 1.35L5.41 20z\"/>\n",
              "  </svg>\n",
              "      </button>\n",
              "      \n",
              "  <style>\n",
              "    .colab-df-container {\n",
              "      display:flex;\n",
              "      flex-wrap:wrap;\n",
              "      gap: 12px;\n",
              "    }\n",
              "\n",
              "    .colab-df-convert {\n",
              "      background-color: #E8F0FE;\n",
              "      border: none;\n",
              "      border-radius: 50%;\n",
              "      cursor: pointer;\n",
              "      display: none;\n",
              "      fill: #1967D2;\n",
              "      height: 32px;\n",
              "      padding: 0 0 0 0;\n",
              "      width: 32px;\n",
              "    }\n",
              "\n",
              "    .colab-df-convert:hover {\n",
              "      background-color: #E2EBFA;\n",
              "      box-shadow: 0px 1px 2px rgba(60, 64, 67, 0.3), 0px 1px 3px 1px rgba(60, 64, 67, 0.15);\n",
              "      fill: #174EA6;\n",
              "    }\n",
              "\n",
              "    [theme=dark] .colab-df-convert {\n",
              "      background-color: #3B4455;\n",
              "      fill: #D2E3FC;\n",
              "    }\n",
              "\n",
              "    [theme=dark] .colab-df-convert:hover {\n",
              "      background-color: #434B5C;\n",
              "      box-shadow: 0px 1px 3px 1px rgba(0, 0, 0, 0.15);\n",
              "      filter: drop-shadow(0px 1px 2px rgba(0, 0, 0, 0.3));\n",
              "      fill: #FFFFFF;\n",
              "    }\n",
              "  </style>\n",
              "\n",
              "      <script>\n",
              "        const buttonEl =\n",
              "          document.querySelector('#df-004c9a69-42d6-4f9a-9ee6-d8800856d6d5 button.colab-df-convert');\n",
              "        buttonEl.style.display =\n",
              "          google.colab.kernel.accessAllowed ? 'block' : 'none';\n",
              "\n",
              "        async function convertToInteractive(key) {\n",
              "          const element = document.querySelector('#df-004c9a69-42d6-4f9a-9ee6-d8800856d6d5');\n",
              "          const dataTable =\n",
              "            await google.colab.kernel.invokeFunction('convertToInteractive',\n",
              "                                                     [key], {});\n",
              "          if (!dataTable) return;\n",
              "\n",
              "          const docLinkHtml = 'Like what you see? Visit the ' +\n",
              "            '<a target=\"_blank\" href=https://colab.research.google.com/notebooks/data_table.ipynb>data table notebook</a>'\n",
              "            + ' to learn more about interactive tables.';\n",
              "          element.innerHTML = '';\n",
              "          dataTable['output_type'] = 'display_data';\n",
              "          await google.colab.output.renderOutput(dataTable, element);\n",
              "          const docLink = document.createElement('div');\n",
              "          docLink.innerHTML = docLinkHtml;\n",
              "          element.appendChild(docLink);\n",
              "        }\n",
              "      </script>\n",
              "    </div>\n",
              "  </div>\n",
              "  "
            ]
          },
          "metadata": {},
          "execution_count": 7
        }
      ]
    },
    {
      "cell_type": "code",
      "source": [
        "data.groupby('Director').mean().sort_values('Imdb Rating', ascending = False)"
      ],
      "metadata": {
        "colab": {
          "base_uri": "https://localhost:8080/",
          "height": 206
        },
        "id": "EWIOmUWMn4xI",
        "outputId": "8c26b223-bb52-423c-dc2c-ba3e47e114a4"
      },
      "execution_count": 39,
      "outputs": [
        {
          "output_type": "execute_result",
          "data": {
            "text/plain": [
              "                          Year  Runtime  Imdb Votes  Imdb Rating  \\\n",
              "Director                                                           \n",
              "Christopher Nolan  2008.333333    152.0   1618076.0     8.533333   \n",
              "Tim Burton         1990.500000    126.0    292798.0     7.250000   \n",
              "Zack Snyder        2016.500000    135.5    474591.5     6.450000   \n",
              "Joel Schumacher    1996.000000    123.0    225647.0     4.550000   \n",
              "\n",
              "                   RottenTomatoScore  Metascore  Overall Rating  \n",
              "Director                                                         \n",
              "Christopher Nolan          88.333333  77.333333       58.066667  \n",
              "Tim Burton                 75.500000  68.500000       50.416667  \n",
              "Zack Snyder                34.000000  44.500000       28.316667  \n",
              "Joel Schumacher            25.000000  39.500000       23.016667  "
            ],
            "text/html": [
              "\n",
              "  <div id=\"df-e738f4b8-0f45-4e66-9b37-99a47e19f6e0\">\n",
              "    <div class=\"colab-df-container\">\n",
              "      <div>\n",
              "<style scoped>\n",
              "    .dataframe tbody tr th:only-of-type {\n",
              "        vertical-align: middle;\n",
              "    }\n",
              "\n",
              "    .dataframe tbody tr th {\n",
              "        vertical-align: top;\n",
              "    }\n",
              "\n",
              "    .dataframe thead th {\n",
              "        text-align: right;\n",
              "    }\n",
              "</style>\n",
              "<table border=\"1\" class=\"dataframe\">\n",
              "  <thead>\n",
              "    <tr style=\"text-align: right;\">\n",
              "      <th></th>\n",
              "      <th>Year</th>\n",
              "      <th>Runtime</th>\n",
              "      <th>Imdb Votes</th>\n",
              "      <th>Imdb Rating</th>\n",
              "      <th>RottenTomatoScore</th>\n",
              "      <th>Metascore</th>\n",
              "      <th>Overall Rating</th>\n",
              "    </tr>\n",
              "    <tr>\n",
              "      <th>Director</th>\n",
              "      <th></th>\n",
              "      <th></th>\n",
              "      <th></th>\n",
              "      <th></th>\n",
              "      <th></th>\n",
              "      <th></th>\n",
              "      <th></th>\n",
              "    </tr>\n",
              "  </thead>\n",
              "  <tbody>\n",
              "    <tr>\n",
              "      <th>Christopher Nolan</th>\n",
              "      <td>2008.333333</td>\n",
              "      <td>152.0</td>\n",
              "      <td>1618076.0</td>\n",
              "      <td>8.533333</td>\n",
              "      <td>88.333333</td>\n",
              "      <td>77.333333</td>\n",
              "      <td>58.066667</td>\n",
              "    </tr>\n",
              "    <tr>\n",
              "      <th>Tim Burton</th>\n",
              "      <td>1990.500000</td>\n",
              "      <td>126.0</td>\n",
              "      <td>292798.0</td>\n",
              "      <td>7.250000</td>\n",
              "      <td>75.500000</td>\n",
              "      <td>68.500000</td>\n",
              "      <td>50.416667</td>\n",
              "    </tr>\n",
              "    <tr>\n",
              "      <th>Zack Snyder</th>\n",
              "      <td>2016.500000</td>\n",
              "      <td>135.5</td>\n",
              "      <td>474591.5</td>\n",
              "      <td>6.450000</td>\n",
              "      <td>34.000000</td>\n",
              "      <td>44.500000</td>\n",
              "      <td>28.316667</td>\n",
              "    </tr>\n",
              "    <tr>\n",
              "      <th>Joel Schumacher</th>\n",
              "      <td>1996.000000</td>\n",
              "      <td>123.0</td>\n",
              "      <td>225647.0</td>\n",
              "      <td>4.550000</td>\n",
              "      <td>25.000000</td>\n",
              "      <td>39.500000</td>\n",
              "      <td>23.016667</td>\n",
              "    </tr>\n",
              "  </tbody>\n",
              "</table>\n",
              "</div>\n",
              "      <button class=\"colab-df-convert\" onclick=\"convertToInteractive('df-e738f4b8-0f45-4e66-9b37-99a47e19f6e0')\"\n",
              "              title=\"Convert this dataframe to an interactive table.\"\n",
              "              style=\"display:none;\">\n",
              "        \n",
              "  <svg xmlns=\"http://www.w3.org/2000/svg\" height=\"24px\"viewBox=\"0 0 24 24\"\n",
              "       width=\"24px\">\n",
              "    <path d=\"M0 0h24v24H0V0z\" fill=\"none\"/>\n",
              "    <path d=\"M18.56 5.44l.94 2.06.94-2.06 2.06-.94-2.06-.94-.94-2.06-.94 2.06-2.06.94zm-11 1L8.5 8.5l.94-2.06 2.06-.94-2.06-.94L8.5 2.5l-.94 2.06-2.06.94zm10 10l.94 2.06.94-2.06 2.06-.94-2.06-.94-.94-2.06-.94 2.06-2.06.94z\"/><path d=\"M17.41 7.96l-1.37-1.37c-.4-.4-.92-.59-1.43-.59-.52 0-1.04.2-1.43.59L10.3 9.45l-7.72 7.72c-.78.78-.78 2.05 0 2.83L4 21.41c.39.39.9.59 1.41.59.51 0 1.02-.2 1.41-.59l7.78-7.78 2.81-2.81c.8-.78.8-2.07 0-2.86zM5.41 20L4 18.59l7.72-7.72 1.47 1.35L5.41 20z\"/>\n",
              "  </svg>\n",
              "      </button>\n",
              "      \n",
              "  <style>\n",
              "    .colab-df-container {\n",
              "      display:flex;\n",
              "      flex-wrap:wrap;\n",
              "      gap: 12px;\n",
              "    }\n",
              "\n",
              "    .colab-df-convert {\n",
              "      background-color: #E8F0FE;\n",
              "      border: none;\n",
              "      border-radius: 50%;\n",
              "      cursor: pointer;\n",
              "      display: none;\n",
              "      fill: #1967D2;\n",
              "      height: 32px;\n",
              "      padding: 0 0 0 0;\n",
              "      width: 32px;\n",
              "    }\n",
              "\n",
              "    .colab-df-convert:hover {\n",
              "      background-color: #E2EBFA;\n",
              "      box-shadow: 0px 1px 2px rgba(60, 64, 67, 0.3), 0px 1px 3px 1px rgba(60, 64, 67, 0.15);\n",
              "      fill: #174EA6;\n",
              "    }\n",
              "\n",
              "    [theme=dark] .colab-df-convert {\n",
              "      background-color: #3B4455;\n",
              "      fill: #D2E3FC;\n",
              "    }\n",
              "\n",
              "    [theme=dark] .colab-df-convert:hover {\n",
              "      background-color: #434B5C;\n",
              "      box-shadow: 0px 1px 3px 1px rgba(0, 0, 0, 0.15);\n",
              "      filter: drop-shadow(0px 1px 2px rgba(0, 0, 0, 0.3));\n",
              "      fill: #FFFFFF;\n",
              "    }\n",
              "  </style>\n",
              "\n",
              "      <script>\n",
              "        const buttonEl =\n",
              "          document.querySelector('#df-e738f4b8-0f45-4e66-9b37-99a47e19f6e0 button.colab-df-convert');\n",
              "        buttonEl.style.display =\n",
              "          google.colab.kernel.accessAllowed ? 'block' : 'none';\n",
              "\n",
              "        async function convertToInteractive(key) {\n",
              "          const element = document.querySelector('#df-e738f4b8-0f45-4e66-9b37-99a47e19f6e0');\n",
              "          const dataTable =\n",
              "            await google.colab.kernel.invokeFunction('convertToInteractive',\n",
              "                                                     [key], {});\n",
              "          if (!dataTable) return;\n",
              "\n",
              "          const docLinkHtml = 'Like what you see? Visit the ' +\n",
              "            '<a target=\"_blank\" href=https://colab.research.google.com/notebooks/data_table.ipynb>data table notebook</a>'\n",
              "            + ' to learn more about interactive tables.';\n",
              "          element.innerHTML = '';\n",
              "          dataTable['output_type'] = 'display_data';\n",
              "          await google.colab.output.renderOutput(dataTable, element);\n",
              "          const docLink = document.createElement('div');\n",
              "          docLink.innerHTML = docLinkHtml;\n",
              "          element.appendChild(docLink);\n",
              "        }\n",
              "      </script>\n",
              "    </div>\n",
              "  </div>\n",
              "  "
            ]
          },
          "metadata": {},
          "execution_count": 39
        }
      ]
    },
    {
      "cell_type": "code",
      "source": [
        "data = data.dropna()"
      ],
      "metadata": {
        "id": "4XhgU2mn70uw"
      },
      "execution_count": 8,
      "outputs": []
    },
    {
      "cell_type": "code",
      "source": [
        "data[['RottenTomatoScore', 'Runtime', 'Imdb Votes']] = data[['RottenTomatoScore', 'Runtime', 'Imdb Votes']].astype(float)\n",
        "data.info()"
      ],
      "metadata": {
        "colab": {
          "base_uri": "https://localhost:8080/"
        },
        "id": "qSSaN-hizW4o",
        "outputId": "afdfe991-7723-43f7-8b61-5f1944d7998f"
      },
      "execution_count": 9,
      "outputs": [
        {
          "output_type": "stream",
          "name": "stdout",
          "text": [
            "<class 'pandas.core.frame.DataFrame'>\n",
            "Int64Index: 9 entries, 0 to 17\n",
            "Data columns (total 14 columns):\n",
            " #   Column             Non-Null Count  Dtype  \n",
            "---  ------             --------------  -----  \n",
            " 0   Year               9 non-null      int64  \n",
            " 1   Title              9 non-null      object \n",
            " 2   Rated              9 non-null      object \n",
            " 3   Director           9 non-null      object \n",
            " 4   Released           9 non-null      object \n",
            " 5   Writer             9 non-null      object \n",
            " 6   Production         9 non-null      object \n",
            " 7   Actors             9 non-null      object \n",
            " 8   Runtime            9 non-null      float64\n",
            " 9   Awards             9 non-null      object \n",
            " 10  Imdb Votes         9 non-null      float64\n",
            " 11  Imdb Rating        9 non-null      float64\n",
            " 12  RottenTomatoScore  9 non-null      float64\n",
            " 13  Metascore          9 non-null      float64\n",
            "dtypes: float64(5), int64(1), object(8)\n",
            "memory usage: 1.1+ KB\n"
          ]
        },
        {
          "output_type": "stream",
          "name": "stderr",
          "text": [
            "/usr/local/lib/python3.8/dist-packages/pandas/core/frame.py:3641: SettingWithCopyWarning: \n",
            "A value is trying to be set on a copy of a slice from a DataFrame.\n",
            "Try using .loc[row_indexer,col_indexer] = value instead\n",
            "\n",
            "See the caveats in the documentation: https://pandas.pydata.org/pandas-docs/stable/user_guide/indexing.html#returning-a-view-versus-a-copy\n",
            "  self[k1] = value[k2]\n"
          ]
        }
      ]
    },
    {
      "cell_type": "code",
      "source": [
        "data['Overall Rating'] = data[['Metascore', 'RottenTomatoScore', 'Imdb Rating']].mean(axis=1)\n",
        "data.head()"
      ],
      "metadata": {
        "id": "mSqer_9RS-gD",
        "colab": {
          "base_uri": "https://localhost:8080/",
          "height": 719
        },
        "outputId": "707800e4-8f76-4409-fa61-fd29e16950b7"
      },
      "execution_count": 10,
      "outputs": [
        {
          "output_type": "stream",
          "name": "stderr",
          "text": [
            "<ipython-input-10-f57ead183fad>:1: SettingWithCopyWarning: \n",
            "A value is trying to be set on a copy of a slice from a DataFrame.\n",
            "Try using .loc[row_indexer,col_indexer] = value instead\n",
            "\n",
            "See the caveats in the documentation: https://pandas.pydata.org/pandas-docs/stable/user_guide/indexing.html#returning-a-view-versus-a-copy\n",
            "  data['Overall Rating'] = data[['Metascore', 'RottenTomatoScore', 'Imdb Rating']].mean(axis=1)\n"
          ]
        },
        {
          "output_type": "execute_result",
          "data": {
            "text/plain": [
              "   Year           Title  Rated           Director   Released  \\\n",
              "0  1989          Batman  PG-13         Tim Burton  6/23/1989   \n",
              "1  1992  Batman Returns  PG-13         Tim Burton  6/19/1992   \n",
              "3  1995  Batman Forever  PG-13    Joel Schumacher  6/16/1995   \n",
              "4  1997  Batman & Robin  PG-13    Joel Schumacher  6/20/1997   \n",
              "7  2005   Batman Begins  PG-13  Christopher Nolan  6/15/2005   \n",
              "\n",
              "                                              Writer             Production  \\\n",
              "0  Bob Kane (Batman characters), Sam Hamm (story)...  Warner Bros. Pictures   \n",
              "1  Bob Kane (Batman characters), Daniel Waters (s...  Warner Bros. Pictures   \n",
              "3  Bob Kane (characters), Lee Batchler (story), J...  Warner Bros. Pictures   \n",
              "4       Bob Kane (Batman characters), Akiva Goldsman      Warner Home Video   \n",
              "7  Bob Kane (characters), David S. Goyer (story),...  Warner Bros. Pictures   \n",
              "\n",
              "                                              Actors  Runtime  \\\n",
              "0  Michael Keaton, Jack Nicholson, Kim Basinger, ...    126.0   \n",
              "1  Michael Keaton, Danny DeVito, Michelle Pfeiffe...    126.0   \n",
              "3  Val Kilmer, Tommy Lee Jones, Jim Carrey, Nicol...    121.0   \n",
              "4  Arnold Schwarzenegger, George Clooney, Chris O...    125.0   \n",
              "7  Christian Bale, Michael Caine, Liam Neeson, Ka...    140.0   \n",
              "\n",
              "                                              Awards  Imdb Votes  Imdb Rating  \\\n",
              "0      Won 1 Oscar. Another 8 wins & 26 nominations.    323942.0          7.5   \n",
              "1  Nominated for 2 Oscars. Another 2 wins & 27 no...    261654.0          7.0   \n",
              "3  Nominated for 3 Oscars. Another 10 wins & 22 n...    226680.0          5.4   \n",
              "4                          10 wins & 22 nominations.    224614.0          3.7   \n",
              "7  Nominated for 1 Oscar. Another 14 wins & 72 no...   1241089.0          8.2   \n",
              "\n",
              "   RottenTomatoScore  Metascore  Overall Rating  \n",
              "0               72.0       69.0       49.500000  \n",
              "1               79.0       68.0       51.333333  \n",
              "3               39.0       51.0       31.800000  \n",
              "4               11.0       28.0       14.233333  \n",
              "7               84.0       70.0       54.066667  "
            ],
            "text/html": [
              "\n",
              "  <div id=\"df-3f2c7f49-a58c-4092-b3bb-912c2ed4a804\">\n",
              "    <div class=\"colab-df-container\">\n",
              "      <div>\n",
              "<style scoped>\n",
              "    .dataframe tbody tr th:only-of-type {\n",
              "        vertical-align: middle;\n",
              "    }\n",
              "\n",
              "    .dataframe tbody tr th {\n",
              "        vertical-align: top;\n",
              "    }\n",
              "\n",
              "    .dataframe thead th {\n",
              "        text-align: right;\n",
              "    }\n",
              "</style>\n",
              "<table border=\"1\" class=\"dataframe\">\n",
              "  <thead>\n",
              "    <tr style=\"text-align: right;\">\n",
              "      <th></th>\n",
              "      <th>Year</th>\n",
              "      <th>Title</th>\n",
              "      <th>Rated</th>\n",
              "      <th>Director</th>\n",
              "      <th>Released</th>\n",
              "      <th>Writer</th>\n",
              "      <th>Production</th>\n",
              "      <th>Actors</th>\n",
              "      <th>Runtime</th>\n",
              "      <th>Awards</th>\n",
              "      <th>Imdb Votes</th>\n",
              "      <th>Imdb Rating</th>\n",
              "      <th>RottenTomatoScore</th>\n",
              "      <th>Metascore</th>\n",
              "      <th>Overall Rating</th>\n",
              "    </tr>\n",
              "  </thead>\n",
              "  <tbody>\n",
              "    <tr>\n",
              "      <th>0</th>\n",
              "      <td>1989</td>\n",
              "      <td>Batman</td>\n",
              "      <td>PG-13</td>\n",
              "      <td>Tim Burton</td>\n",
              "      <td>6/23/1989</td>\n",
              "      <td>Bob Kane (Batman characters), Sam Hamm (story)...</td>\n",
              "      <td>Warner Bros. Pictures</td>\n",
              "      <td>Michael Keaton, Jack Nicholson, Kim Basinger, ...</td>\n",
              "      <td>126.0</td>\n",
              "      <td>Won 1 Oscar. Another 8 wins &amp; 26 nominations.</td>\n",
              "      <td>323942.0</td>\n",
              "      <td>7.5</td>\n",
              "      <td>72.0</td>\n",
              "      <td>69.0</td>\n",
              "      <td>49.500000</td>\n",
              "    </tr>\n",
              "    <tr>\n",
              "      <th>1</th>\n",
              "      <td>1992</td>\n",
              "      <td>Batman Returns</td>\n",
              "      <td>PG-13</td>\n",
              "      <td>Tim Burton</td>\n",
              "      <td>6/19/1992</td>\n",
              "      <td>Bob Kane (Batman characters), Daniel Waters (s...</td>\n",
              "      <td>Warner Bros. Pictures</td>\n",
              "      <td>Michael Keaton, Danny DeVito, Michelle Pfeiffe...</td>\n",
              "      <td>126.0</td>\n",
              "      <td>Nominated for 2 Oscars. Another 2 wins &amp; 27 no...</td>\n",
              "      <td>261654.0</td>\n",
              "      <td>7.0</td>\n",
              "      <td>79.0</td>\n",
              "      <td>68.0</td>\n",
              "      <td>51.333333</td>\n",
              "    </tr>\n",
              "    <tr>\n",
              "      <th>3</th>\n",
              "      <td>1995</td>\n",
              "      <td>Batman Forever</td>\n",
              "      <td>PG-13</td>\n",
              "      <td>Joel Schumacher</td>\n",
              "      <td>6/16/1995</td>\n",
              "      <td>Bob Kane (characters), Lee Batchler (story), J...</td>\n",
              "      <td>Warner Bros. Pictures</td>\n",
              "      <td>Val Kilmer, Tommy Lee Jones, Jim Carrey, Nicol...</td>\n",
              "      <td>121.0</td>\n",
              "      <td>Nominated for 3 Oscars. Another 10 wins &amp; 22 n...</td>\n",
              "      <td>226680.0</td>\n",
              "      <td>5.4</td>\n",
              "      <td>39.0</td>\n",
              "      <td>51.0</td>\n",
              "      <td>31.800000</td>\n",
              "    </tr>\n",
              "    <tr>\n",
              "      <th>4</th>\n",
              "      <td>1997</td>\n",
              "      <td>Batman &amp; Robin</td>\n",
              "      <td>PG-13</td>\n",
              "      <td>Joel Schumacher</td>\n",
              "      <td>6/20/1997</td>\n",
              "      <td>Bob Kane (Batman characters), Akiva Goldsman</td>\n",
              "      <td>Warner Home Video</td>\n",
              "      <td>Arnold Schwarzenegger, George Clooney, Chris O...</td>\n",
              "      <td>125.0</td>\n",
              "      <td>10 wins &amp; 22 nominations.</td>\n",
              "      <td>224614.0</td>\n",
              "      <td>3.7</td>\n",
              "      <td>11.0</td>\n",
              "      <td>28.0</td>\n",
              "      <td>14.233333</td>\n",
              "    </tr>\n",
              "    <tr>\n",
              "      <th>7</th>\n",
              "      <td>2005</td>\n",
              "      <td>Batman Begins</td>\n",
              "      <td>PG-13</td>\n",
              "      <td>Christopher Nolan</td>\n",
              "      <td>6/15/2005</td>\n",
              "      <td>Bob Kane (characters), David S. Goyer (story),...</td>\n",
              "      <td>Warner Bros. Pictures</td>\n",
              "      <td>Christian Bale, Michael Caine, Liam Neeson, Ka...</td>\n",
              "      <td>140.0</td>\n",
              "      <td>Nominated for 1 Oscar. Another 14 wins &amp; 72 no...</td>\n",
              "      <td>1241089.0</td>\n",
              "      <td>8.2</td>\n",
              "      <td>84.0</td>\n",
              "      <td>70.0</td>\n",
              "      <td>54.066667</td>\n",
              "    </tr>\n",
              "  </tbody>\n",
              "</table>\n",
              "</div>\n",
              "      <button class=\"colab-df-convert\" onclick=\"convertToInteractive('df-3f2c7f49-a58c-4092-b3bb-912c2ed4a804')\"\n",
              "              title=\"Convert this dataframe to an interactive table.\"\n",
              "              style=\"display:none;\">\n",
              "        \n",
              "  <svg xmlns=\"http://www.w3.org/2000/svg\" height=\"24px\"viewBox=\"0 0 24 24\"\n",
              "       width=\"24px\">\n",
              "    <path d=\"M0 0h24v24H0V0z\" fill=\"none\"/>\n",
              "    <path d=\"M18.56 5.44l.94 2.06.94-2.06 2.06-.94-2.06-.94-.94-2.06-.94 2.06-2.06.94zm-11 1L8.5 8.5l.94-2.06 2.06-.94-2.06-.94L8.5 2.5l-.94 2.06-2.06.94zm10 10l.94 2.06.94-2.06 2.06-.94-2.06-.94-.94-2.06-.94 2.06-2.06.94z\"/><path d=\"M17.41 7.96l-1.37-1.37c-.4-.4-.92-.59-1.43-.59-.52 0-1.04.2-1.43.59L10.3 9.45l-7.72 7.72c-.78.78-.78 2.05 0 2.83L4 21.41c.39.39.9.59 1.41.59.51 0 1.02-.2 1.41-.59l7.78-7.78 2.81-2.81c.8-.78.8-2.07 0-2.86zM5.41 20L4 18.59l7.72-7.72 1.47 1.35L5.41 20z\"/>\n",
              "  </svg>\n",
              "      </button>\n",
              "      \n",
              "  <style>\n",
              "    .colab-df-container {\n",
              "      display:flex;\n",
              "      flex-wrap:wrap;\n",
              "      gap: 12px;\n",
              "    }\n",
              "\n",
              "    .colab-df-convert {\n",
              "      background-color: #E8F0FE;\n",
              "      border: none;\n",
              "      border-radius: 50%;\n",
              "      cursor: pointer;\n",
              "      display: none;\n",
              "      fill: #1967D2;\n",
              "      height: 32px;\n",
              "      padding: 0 0 0 0;\n",
              "      width: 32px;\n",
              "    }\n",
              "\n",
              "    .colab-df-convert:hover {\n",
              "      background-color: #E2EBFA;\n",
              "      box-shadow: 0px 1px 2px rgba(60, 64, 67, 0.3), 0px 1px 3px 1px rgba(60, 64, 67, 0.15);\n",
              "      fill: #174EA6;\n",
              "    }\n",
              "\n",
              "    [theme=dark] .colab-df-convert {\n",
              "      background-color: #3B4455;\n",
              "      fill: #D2E3FC;\n",
              "    }\n",
              "\n",
              "    [theme=dark] .colab-df-convert:hover {\n",
              "      background-color: #434B5C;\n",
              "      box-shadow: 0px 1px 3px 1px rgba(0, 0, 0, 0.15);\n",
              "      filter: drop-shadow(0px 1px 2px rgba(0, 0, 0, 0.3));\n",
              "      fill: #FFFFFF;\n",
              "    }\n",
              "  </style>\n",
              "\n",
              "      <script>\n",
              "        const buttonEl =\n",
              "          document.querySelector('#df-3f2c7f49-a58c-4092-b3bb-912c2ed4a804 button.colab-df-convert');\n",
              "        buttonEl.style.display =\n",
              "          google.colab.kernel.accessAllowed ? 'block' : 'none';\n",
              "\n",
              "        async function convertToInteractive(key) {\n",
              "          const element = document.querySelector('#df-3f2c7f49-a58c-4092-b3bb-912c2ed4a804');\n",
              "          const dataTable =\n",
              "            await google.colab.kernel.invokeFunction('convertToInteractive',\n",
              "                                                     [key], {});\n",
              "          if (!dataTable) return;\n",
              "\n",
              "          const docLinkHtml = 'Like what you see? Visit the ' +\n",
              "            '<a target=\"_blank\" href=https://colab.research.google.com/notebooks/data_table.ipynb>data table notebook</a>'\n",
              "            + ' to learn more about interactive tables.';\n",
              "          element.innerHTML = '';\n",
              "          dataTable['output_type'] = 'display_data';\n",
              "          await google.colab.output.renderOutput(dataTable, element);\n",
              "          const docLink = document.createElement('div');\n",
              "          docLink.innerHTML = docLinkHtml;\n",
              "          element.appendChild(docLink);\n",
              "        }\n",
              "      </script>\n",
              "    </div>\n",
              "  </div>\n",
              "  "
            ]
          },
          "metadata": {},
          "execution_count": 10
        }
      ]
    },
    {
      "cell_type": "code",
      "source": [
        "data.corr()['Overall Rating'].sort_values(ascending = False)"
      ],
      "metadata": {
        "colab": {
          "base_uri": "https://localhost:8080/"
        },
        "id": "Bt-TBbdakKAw",
        "outputId": "aa06c8ef-f2f3-42fc-9b0c-cc307cc471ec"
      },
      "execution_count": 11,
      "outputs": [
        {
          "output_type": "execute_result",
          "data": {
            "text/plain": [
              "Overall Rating       1.000000\n",
              "RottenTomatoScore    0.997330\n",
              "Metascore            0.993930\n",
              "Imdb Rating          0.932066\n",
              "Imdb Votes           0.700143\n",
              "Runtime              0.490785\n",
              "Year                -0.041795\n",
              "Name: Overall Rating, dtype: float64"
            ]
          },
          "metadata": {},
          "execution_count": 11
        }
      ]
    },
    {
      "cell_type": "code",
      "source": [
        "data.corr()['Imdb Rating'].sort_values(ascending = False)"
      ],
      "metadata": {
        "colab": {
          "base_uri": "https://localhost:8080/"
        },
        "id": "IJvepgxQLSuB",
        "outputId": "b33305e7-94fe-4a15-c914-701cb9a5801f"
      },
      "execution_count": 12,
      "outputs": [
        {
          "output_type": "execute_result",
          "data": {
            "text/plain": [
              "Imdb Rating          1.000000\n",
              "Overall Rating       0.932066\n",
              "Metascore            0.931896\n",
              "RottenTomatoScore    0.919027\n",
              "Imdb Votes           0.772131\n",
              "Runtime              0.629101\n",
              "Year                 0.260214\n",
              "Name: Imdb Rating, dtype: float64"
            ]
          },
          "metadata": {},
          "execution_count": 12
        }
      ]
    },
    {
      "cell_type": "code",
      "source": [
        "data.corr()['Runtime'].sort_values(ascending = False)"
      ],
      "metadata": {
        "colab": {
          "base_uri": "https://localhost:8080/"
        },
        "id": "OwwIrKbFLkfl",
        "outputId": "036f3385-1df6-44bb-c9fc-19eb2060d57a"
      },
      "execution_count": 13,
      "outputs": [
        {
          "output_type": "execute_result",
          "data": {
            "text/plain": [
              "Runtime              1.000000\n",
              "Imdb Votes           0.786934\n",
              "Imdb Rating          0.629101\n",
              "Year                 0.548252\n",
              "Metascore            0.522241\n",
              "Overall Rating       0.490785\n",
              "RottenTomatoScore    0.458924\n",
              "Name: Runtime, dtype: float64"
            ]
          },
          "metadata": {},
          "execution_count": 13
        }
      ]
    },
    {
      "cell_type": "code",
      "source": [
        "data.corr()['Imdb Votes'].sort_values(ascending = False)"
      ],
      "metadata": {
        "colab": {
          "base_uri": "https://localhost:8080/"
        },
        "id": "3-foiD3IL2vi",
        "outputId": "44935b95-46d1-474d-c915-3b5b474bdb4c"
      },
      "execution_count": 14,
      "outputs": [
        {
          "output_type": "execute_result",
          "data": {
            "text/plain": [
              "Imdb Votes           1.000000\n",
              "Runtime              0.786934\n",
              "Imdb Rating          0.772131\n",
              "Metascore            0.715017\n",
              "Overall Rating       0.700143\n",
              "RottenTomatoScore    0.679983\n",
              "Year                 0.431189\n",
              "Name: Imdb Votes, dtype: float64"
            ]
          },
          "metadata": {},
          "execution_count": 14
        }
      ]
    },
    {
      "cell_type": "code",
      "source": [
        "data.corr()['Metascore'].sort_values(ascending = False)"
      ],
      "metadata": {
        "colab": {
          "base_uri": "https://localhost:8080/"
        },
        "id": "U57-DUewMA7H",
        "outputId": "a21b9315-cf97-49b6-c346-0491a2479e77"
      },
      "execution_count": 15,
      "outputs": [
        {
          "output_type": "execute_result",
          "data": {
            "text/plain": [
              "Metascore            1.000000\n",
              "Overall Rating       0.993930\n",
              "RottenTomatoScore    0.983539\n",
              "Imdb Rating          0.931896\n",
              "Imdb Votes           0.715017\n",
              "Runtime              0.522241\n",
              "Year                -0.041481\n",
              "Name: Metascore, dtype: float64"
            ]
          },
          "metadata": {},
          "execution_count": 15
        }
      ]
    },
    {
      "cell_type": "markdown",
      "source": [
        "#Data Visulize"
      ],
      "metadata": {
        "id": "9NgnB1vrMsWK"
      }
    },
    {
      "cell_type": "code",
      "source": [
        "sns.heatmap(data.corr(), annot = True, cmap = 'BuPu')"
      ],
      "metadata": {
        "colab": {
          "base_uri": "https://localhost:8080/",
          "height": 373
        },
        "id": "ZdjOS3YuNQa_",
        "outputId": "3cc7b6b9-0bab-4bd4-ebe6-70573f70cea9"
      },
      "execution_count": 16,
      "outputs": [
        {
          "output_type": "execute_result",
          "data": {
            "text/plain": [
              "<AxesSubplot:>"
            ]
          },
          "metadata": {},
          "execution_count": 16
        },
        {
          "output_type": "display_data",
          "data": {
            "text/plain": [
              "<Figure size 432x288 with 2 Axes>"
            ],
            "image/png": "[encoded data removed]"
          },
          "metadata": {
            "needs_background": "light"
          }
        }
      ]
    },
    {
      "cell_type": "code",
      "source": [
        "sns.regplot(x = 'Overall Rating', y = 'Metascore', data = data)"
      ],
      "metadata": {
        "colab": {
          "base_uri": "https://localhost:8080/",
          "height": 296
        },
        "id": "EabNbCDiki-k",
        "outputId": "23a52a36-d784-4692-bc4b-52c60a79b595"
      },
      "execution_count": 17,
      "outputs": [
        {
          "output_type": "execute_result",
          "data": {
            "text/plain": [
              "<AxesSubplot:xlabel='Overall Rating', ylabel='Metascore'>"
            ]
          },
          "metadata": {},
          "execution_count": 17
        },
        {
          "output_type": "display_data",
          "data": {
            "text/plain": [
              "<Figure size 432x288 with 1 Axes>"
            ],
            "image/png": "[encoded data removed]"
          },
          "metadata": {
            "needs_background": "light"
          }
        }
      ]
    },
    {
      "cell_type": "code",
      "source": [
        "sns.regplot(x = 'Overall Rating', y = 'RottenTomatoScore', data = data)"
      ],
      "metadata": {
        "colab": {
          "base_uri": "https://localhost:8080/",
          "height": 296
        },
        "id": "0zMdrJKmkn-y",
        "outputId": "04b5da16-4f69-416a-97a6-ac70d09bbd5d"
      },
      "execution_count": 18,
      "outputs": [
        {
          "output_type": "execute_result",
          "data": {
            "text/plain": [
              "<AxesSubplot:xlabel='Overall Rating', ylabel='RottenTomatoScore'>"
            ]
          },
          "metadata": {},
          "execution_count": 18
        },
        {
          "output_type": "display_data",
          "data": {
            "text/plain": [
              "<Figure size 432x288 with 1 Axes>"
            ],
            "image/png": "[encoded data removed]"
          },
          "metadata": {
            "needs_background": "light"
          }
        }
      ]
    },
    {
      "cell_type": "code",
      "source": [
        "sns.regplot(x = 'Overall Rating', y = 'Imdb Rating', data = data)"
      ],
      "metadata": {
        "colab": {
          "base_uri": "https://localhost:8080/",
          "height": 296
        },
        "id": "3E2EGDWak9zT",
        "outputId": "314f3f4b-e346-4a94-84e2-2f091fe8b860"
      },
      "execution_count": 30,
      "outputs": [
        {
          "output_type": "execute_result",
          "data": {
            "text/plain": [
              "<AxesSubplot:xlabel='Overall Rating', ylabel='Imdb Rating'>"
            ]
          },
          "metadata": {},
          "execution_count": 30
        },
        {
          "output_type": "display_data",
          "data": {
            "text/plain": [
              "<Figure size 432x288 with 1 Axes>"
            ],
            "image/png": "[encoded data removed]"
          },
          "metadata": {
            "needs_background": "light"
          }
        }
      ]
    },
    {
      "cell_type": "code",
      "source": [
        "sns.regplot(x = 'Overall Rating', y = 'Imdb Votes', data = data)"
      ],
      "metadata": {
        "colab": {
          "base_uri": "https://localhost:8080/",
          "height": 307
        },
        "id": "z8YoyL8RNtxB",
        "outputId": "9ab08842-80ff-47cc-9379-64eff01a526e"
      },
      "execution_count": 31,
      "outputs": [
        {
          "output_type": "execute_result",
          "data": {
            "text/plain": [
              "<AxesSubplot:xlabel='Overall Rating', ylabel='Imdb Votes'>"
            ]
          },
          "metadata": {},
          "execution_count": 31
        },
        {
          "output_type": "display_data",
          "data": {
            "text/plain": [
              "<Figure size 432x288 with 1 Axes>"
            ],
            "image/png": "[encoded data removed]"
          },
          "metadata": {
            "needs_background": "light"
          }
        }
      ]
    },
    {
      "cell_type": "code",
      "source": [
        "sns.regplot(x = 'Overall Rating', y = 'Runtime', data = data)"
      ],
      "metadata": {
        "colab": {
          "base_uri": "https://localhost:8080/",
          "height": 296
        },
        "id": "X6fM7SU5O3mj",
        "outputId": "b735109c-fd5d-4ac7-bd35-7bffbb9d2aff"
      },
      "execution_count": 32,
      "outputs": [
        {
          "output_type": "execute_result",
          "data": {
            "text/plain": [
              "<AxesSubplot:xlabel='Overall Rating', ylabel='Runtime'>"
            ]
          },
          "metadata": {},
          "execution_count": 32
        },
        {
          "output_type": "display_data",
          "data": {
            "text/plain": [
              "<Figure size 432x288 with 1 Axes>"
            ],
            "image/png": "[encoded data removed]"
          },
          "metadata": {
            "needs_background": "light"
          }
        }
      ]
    },
    {
      "cell_type": "code",
      "source": [
        "sns.lineplot(x = 'Year', y = 'Overall Rating', data=data)"
      ],
      "metadata": {
        "id": "ErHOfNelLZDx",
        "colab": {
          "base_uri": "https://localhost:8080/",
          "height": 296
        },
        "outputId": "4566c81d-ae79-490d-9b6f-1ecbfb194be7"
      },
      "execution_count": 28,
      "outputs": [
        {
          "output_type": "execute_result",
          "data": {
            "text/plain": [
              "<AxesSubplot:xlabel='Year', ylabel='Overall Rating'>"
            ]
          },
          "metadata": {},
          "execution_count": 28
        },
        {
          "output_type": "display_data",
          "data": {
            "text/plain": [
              "<Figure size 432x288 with 1 Axes>"
            ],
            "image/png": "[encoded data removed]"
          },
          "metadata": {
            "needs_background": "light"
          }
        }
      ]
    },
    {
      "cell_type": "code",
      "source": [
        "sns.regplot(x = 'Year', y = 'Overall Rating', data=data)"
      ],
      "metadata": {
        "colab": {
          "base_uri": "https://localhost:8080/",
          "height": 296
        },
        "id": "hV9P9WiORrFW",
        "outputId": "999a31b2-4b74-47e3-f589-81bb379bad13"
      },
      "execution_count": 27,
      "outputs": [
        {
          "output_type": "execute_result",
          "data": {
            "text/plain": [
              "<AxesSubplot:xlabel='Year', ylabel='Overall Rating'>"
            ]
          },
          "metadata": {},
          "execution_count": 27
        },
        {
          "output_type": "display_data",
          "data": {
            "text/plain": [
              "<Figure size 432x288 with 1 Axes>"
            ],
            "image/png": "[encoded data removed]"
          },
          "metadata": {
            "needs_background": "light"
          }
        }
      ]
    },
    {
      "cell_type": "code",
      "source": [
        "sns.barplot(x = 'Director', y = 'Overall Rating', data = data)"
      ],
      "metadata": {
        "colab": {
          "base_uri": "https://localhost:8080/",
          "height": 296
        },
        "id": "0Mfe2sZupVQe",
        "outputId": "6ae8f262-5ef0-4720-a05a-28d08ff32fa6"
      },
      "execution_count": 40,
      "outputs": [
        {
          "output_type": "execute_result",
          "data": {
            "text/plain": [
              "<AxesSubplot:xlabel='Director', ylabel='Overall Rating'>"
            ]
          },
          "metadata": {},
          "execution_count": 40
        },
        {
          "output_type": "display_data",
          "data": {
            "text/plain": [
              "<Figure size 432x288 with 1 Axes>"
            ],
            "image/png": "[encoded data removed]"
          },
          "metadata": {
            "needs_background": "light"
          }
        }
      ]
    },
    {
      "cell_type": "markdown",
      "source": [
        "#Report\n",
        "\n",
        "Insights:\n",
        "- Overall rating has a very high correlation above 50% with Metascore, RottenTomatoScore, Imdb Rating, Imdb Votes.\n",
        "- Overall rating has correlation around 50% with Runtime\n",
        "- Overall rating is going upside down in the last 30 years. In prediction, Batman movies' rating will go downwards slowly.\n",
        "- The highest Batman movies' rating was directed by Christopher Nolan.\n",
        "- The lowest Batman movies' rating was directed by Joel Schumacher. \n",
        "\n",
        "Conclution: Batmam movies's rating in the last 30 years was highly influenced with some factors suct as Metascore, RottentomatoScore, Imdb Rating, Imdb vote, and Director. "
      ],
      "metadata": {
        "id": "1x6ROzgcPK-F"
      }
    },
    {
      "cell_type": "code",
      "source": [],
      "metadata": {
        "id": "_9XkYZ6595Ly"
      },
      "execution_count": 27,
      "outputs": []
    }
  ]
}